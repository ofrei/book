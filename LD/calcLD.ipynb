{
 "cells": [
  {
   "cell_type": "markdown",
   "metadata": {},
   "source": [
    "This notebook demonstrates LD (linkage disequilibrium) calculations.\n",
    "\n",
    "Let's first load some example data that will allow us to calculate LD (r^2 and D') for two specific SNPs.\n",
    "The input file is in the \"Linkage format\" of Haploview 4.2, as described [here](\n",
    "http://www.broadinstitute.org/science/programs/medical-and-population-genetics/haploview/input-file-formats-0)."
   ]
  },
  {
   "cell_type": "code",
   "execution_count": 265,
   "metadata": {
    "collapsed": false
   },
   "outputs": [
    {
     "data": {
      "text/html": [
       "<div>\n",
       "<table border=\"1\" class=\"dataframe\">\n",
       "  <thead>\n",
       "    <tr style=\"text-align: right;\">\n",
       "      <th></th>\n",
       "      <th>A1</th>\n",
       "      <th>A2</th>\n",
       "      <th>B1</th>\n",
       "      <th>B2</th>\n",
       "    </tr>\n",
       "    <tr>\n",
       "      <th>Id</th>\n",
       "      <th></th>\n",
       "      <th></th>\n",
       "      <th></th>\n",
       "      <th></th>\n",
       "    </tr>\n",
       "  </thead>\n",
       "  <tbody>\n",
       "    <tr>\n",
       "      <th>id1</th>\n",
       "      <td>A</td>\n",
       "      <td>G</td>\n",
       "      <td>G</td>\n",
       "      <td>A</td>\n",
       "    </tr>\n",
       "    <tr>\n",
       "      <th>id2</th>\n",
       "      <td>A</td>\n",
       "      <td>G</td>\n",
       "      <td>G</td>\n",
       "      <td>A</td>\n",
       "    </tr>\n",
       "    <tr>\n",
       "      <th>id3</th>\n",
       "      <td>A</td>\n",
       "      <td>A</td>\n",
       "      <td>A</td>\n",
       "      <td>A</td>\n",
       "    </tr>\n",
       "    <tr>\n",
       "      <th>id4</th>\n",
       "      <td>A</td>\n",
       "      <td>A</td>\n",
       "      <td>G</td>\n",
       "      <td>A</td>\n",
       "    </tr>\n",
       "    <tr>\n",
       "      <th>id5</th>\n",
       "      <td>A</td>\n",
       "      <td>A</td>\n",
       "      <td>A</td>\n",
       "      <td>A</td>\n",
       "    </tr>\n",
       "    <tr>\n",
       "      <th>id6</th>\n",
       "      <td>G</td>\n",
       "      <td>G</td>\n",
       "      <td>G</td>\n",
       "      <td>G</td>\n",
       "    </tr>\n",
       "  </tbody>\n",
       "</table>\n",
       "</div>"
      ],
      "text/plain": [
       "    A1 A2 B1 B2\n",
       "Id             \n",
       "id1  A  G  G  A\n",
       "id2  A  G  G  A\n",
       "id3  A  A  A  A\n",
       "id4  A  A  G  A\n",
       "id5  A  A  A  A\n",
       "id6  G  G  G  G"
      ]
     },
     "execution_count": 265,
     "metadata": {},
     "output_type": "execute_result"
    }
   ],
   "source": [
    "import pandas as pd\n",
    "import numpy as np\n",
    "import math\n",
    "\n",
    "df = pd.read_csv('just2.chr-6.ped', sep='\\t', header=None, \n",
    "                 names=['FamId', 'Id', 'FatherId', 'MotherId', 'Sex', 'Affection', 'A1', 'A2', 'B1', 'B2'],\n",
    "                 index_col=1)\n",
    "df = df[['A1', 'A2', 'B1', 'B2']]  # prune all irrelevant columns\n",
    "df[:6]"
   ]
  },
  {
   "cell_type": "markdown",
   "metadata": {},
   "source": [
    "The table above shows subset of 6 individuals, and their genotype at two locus - A and B. Each locus is represented at two homologous chromosomes, hence 4 columns in the table.\n",
    "\n",
    "Let's now calculate 3x3 square of all frequencies:"
   ]
  },
  {
   "cell_type": "code",
   "execution_count": 282,
   "metadata": {
    "collapsed": false
   },
   "outputs": [
    {
     "data": {
      "text/html": [
       "<div>\n",
       "<table border=\"1\" class=\"dataframe\">\n",
       "  <thead>\n",
       "    <tr style=\"text-align: right;\">\n",
       "      <th>B</th>\n",
       "      <th>AA</th>\n",
       "      <th>AG</th>\n",
       "      <th>GG</th>\n",
       "    </tr>\n",
       "    <tr>\n",
       "      <th>A</th>\n",
       "      <th></th>\n",
       "      <th></th>\n",
       "      <th></th>\n",
       "    </tr>\n",
       "  </thead>\n",
       "  <tbody>\n",
       "    <tr>\n",
       "      <th>AA</th>\n",
       "      <td>83.0</td>\n",
       "      <td>2.0</td>\n",
       "      <td>0.0</td>\n",
       "    </tr>\n",
       "    <tr>\n",
       "      <th>AG</th>\n",
       "      <td>50.0</td>\n",
       "      <td>133.0</td>\n",
       "      <td>0.0</td>\n",
       "    </tr>\n",
       "    <tr>\n",
       "      <th>GG</th>\n",
       "      <td>7.0</td>\n",
       "      <td>45.0</td>\n",
       "      <td>59.0</td>\n",
       "    </tr>\n",
       "  </tbody>\n",
       "</table>\n",
       "</div>"
      ],
      "text/plain": [
       "B     AA     AG    GG\n",
       "A                    \n",
       "AA  83.0    2.0   0.0\n",
       "AG  50.0  133.0   0.0\n",
       "GG   7.0   45.0  59.0"
      ]
     },
     "execution_count": 282,
     "metadata": {},
     "output_type": "execute_result"
    }
   ],
   "source": [
    "df['A'] = df['A1'] + df['A2']\n",
    "df['B'] = df['B2'] + df['B1']\n",
    "df['count'] = 1\n",
    "freq = df[['count', 'A', 'B']].groupby(['A', 'B']).sum().unstack(level=1)['count']\n",
    "freq.fillna(0, inplace=True)\n",
    "freq"
   ]
  },
  {
   "cell_type": "markdown",
   "metadata": {},
   "source": [
    "The next step is to perform [Haplotype_resolution](https://en.wikipedia.org/wiki/Haplotype#Haplotype_resolution), as described in the following papers:\n",
    "* [W. G. Hill - Estimation of linkage disequilibrium in randomly mating populations](http://www.nature.com/hdy/journal/v33/n2/abs/hdy197489a.html)\n",
    "* [Gaunt at all - Cubic exact solutions for the estimation of pairwise haplotype frequencies](http://bmcbioinformatics.biomedcentral.com/articles/10.1186/1471-2105-8-428)\n",
    "\n",
    "TBD: make this work, because at the moment results don't match with plink, which gives the following haplotype frequencies:\n",
    "```\n",
    "E:\\sandbox>plink --bfile chr6 --ld rs1928160 rs62404665\n",
    "PLINK v1.90b3.38 64-bit (7 Jun 2016)       https://www.cog-genomics.org/plink2\n",
    "(C) 2005-2016 Shaun Purcell, Christopher Chang   GNU General Public License v3\n",
    "Logging to plink.log.\n",
    "Options in effect:\n",
    "  --bfile chr6\n",
    "  --ld rs1928160 rs62404665\n",
    "\n",
    "32693 MB RAM detected; reserving 16346 MB for main workspace.\n",
    "1925995 variants loaded from .bim file.\n",
    "379 people (379 males, 0 females) loaded from .fam.\n",
    "Using 1 thread (no multithreaded calculations invoked).\n",
    "Before main variant filters, 379 founders and 0 nonfounders present.\n",
    "Calculating allele frequencies... done.\n",
    "1925995 variants and 379 people pass filters and QC.\n",
    "Note: No phenotypes present.\n",
    "\n",
    "--ld rs1928160 rs62404665:\n",
    "\n",
    "   R-sq = 0.545885       D' = 0.983245\n",
    "\n",
    "   Haplotype     Frequency    Expectation under LE\n",
    "   ---------     ---------    --------------------\n",
    "          AG      0.003068                0.183085\n",
    "          GG      0.390072                0.210055\n",
    "          AA      0.462632                0.282614\n",
    "          GA      0.144229                0.324246\n",
    "\n",
    "   In phase alleles are AA/GG\n",
    "```"
   ]
  },
  {
   "cell_type": "code",
   "execution_count": 333,
   "metadata": {
    "collapsed": false
   },
   "outputs": [
    {
     "name": "stdout",
     "output_type": "stream",
     "text": [
      "0.35046922536 0.0426706163282 0.256390932951 0.35046922536 0.918214563169\n",
      "0.224355235423 0.0084943687985 0.0790748437325 0.188075552046 0.984330972171\n",
      "0.230155685553 0.00269391866839 0.0732743936024 0.193876002176 0.995595729601\n",
      "0.231143952531 0.00170565169067 0.0722861266247 0.194864269154 0.997270121222\n",
      "0.231290848366 0.00155875585587 0.0721392307899 0.195011164988 0.997513145897\n",
      "0.231312169132 0.00153743508953 0.0721179100236 0.195032485755 0.997548293863\n",
      "0.231315252694 0.00153435152789 0.0721148264619 0.195035569316 0.99755337459\n",
      "0.23131569843 0.00153390579129 0.0721143807253 0.195036015053 0.997554108967\n",
      "0.231315762858 0.00153384136375 0.0721143162978 0.195036079481 0.997554215114\n"
     ]
    }
   ],
   "source": [
    "AA = 'AA'; AG = 'AG'; GG = 'GG';\n",
    "\n",
    "# Incomplete distributions of haplotype frequencies\n",
    "# The question is where to put freq[AG][AG], which can contribute to all haplotypes\n",
    "X_AA = 2 * freq[AA][AA] + freq[AA][AG] + freq[AG][AA]\n",
    "X_GG = 2 * freq[GG][GG] + freq[AG][GG] + freq[GG][AG]\n",
    "X_AG = 2 * freq[AA][GG] + freq[AG][GG] + freq[AA][AG]\n",
    "X_GA = 2 * freq[GG][AA] + freq[GG][AG] + freq[AG][AA]\n",
    "\n",
    "N = float(X_AA + X_GG + X_AG + X_GA + 2 * freq[AG][AG])\n",
    "\n",
    "# Find allele frequencies\n",
    "p_A = (X_AA + X_AG + freq[AG][AG]) / N\n",
    "p_B = (X_GG + X_GA + freq[AG][AG]) / N\n",
    "\n",
    "# Initial approximation for\n",
    "f_AA = 1 / (4 * N) * (X_AA - X_AG - X_GA + X_GG) + 0.5 - (1 - p_A)*(1 - p_B)\n",
    "f_AG = p_A - f_AA\n",
    "f_GA = p_B - f_AA\n",
    "f_GG = 1 - p_A - p_B + f_AA\n",
    "\n",
    "for i in xrange(1, 10):\n",
    "    rAAGG = (f_AA * f_GG) / (f_AA * f_GG + f_AG * f_GA)\n",
    "    rAGGA = 1 - rAAGG\n",
    "\n",
    "    new_f_AA = (X_AA + rAAGG * freq[AG][AG]) / (2 * N)\n",
    "    new_f_GA = (X_GA + rAGGA * freq[AG][AG]) / (2 * N)\n",
    "    new_f_AG = (X_AG + rAGGA * freq[AG][AG]) / (2 * N)\n",
    "    new_f_GG = (X_GG + rAAGG * freq[AG][AG]) / (2 * N)\n",
    "\n",
    "    print f_AA, f_GA, f_AG, f_GG, rAAGG\n",
    "    \n",
    "    f_AA = new_f_AA\n",
    "    f_AG = new_f_AG\n",
    "    f_GA = new_f_GA\n",
    "    f_GG = new_f_GG\n",
    "    \n",
    "\n"
   ]
  },
  {
   "cell_type": "markdown",
   "metadata": {},
   "source": [
    "Some references:\n",
    "* Haploview program is taken from\n",
    "  [here](https://www.broadinstitute.org/scientific-community/science/programs/medical-and-population-genetics/haploview/haploview)\n",
    "\n",
    "* plink2 can be downloaded from https://www.cog-genomics.org/plink2/\n",
    "\n",
    "The input data was prepared with the following commands\n",
    "\n",
    "```\n",
    "plink --bfile chr6 --recode HV --snps-only no-DI\n",
    "      --from-kb 22000 --to-kb 22500 --chr 6 --allele1234 --maf  --bp-space 1000\n",
    "      \n",
    "plink --bfile chr6 --recode HV --snps-only no-DI --snps rs1928160,rs62404665 --chr 6  --out just2\n",
    "```\n",
    "\n",
    "Estimation of haplotype frequencies, online page:\n",
    "\n",
    "* http://www.genes.org.uk/cgi-bin/cubex.py"
   ]
  },
  {
   "cell_type": "code",
   "execution_count": null,
   "metadata": {
    "collapsed": true
   },
   "outputs": [],
   "source": []
  }
 ],
 "metadata": {
  "kernelspec": {
   "display_name": "Python [Root]",
   "language": "python",
   "name": "Python [Root]"
  },
  "language_info": {
   "codemirror_mode": {
    "name": "ipython",
    "version": 2
   },
   "file_extension": ".py",
   "mimetype": "text/x-python",
   "name": "python",
   "nbconvert_exporter": "python",
   "pygments_lexer": "ipython2",
   "version": "2.7.12"
  }
 },
 "nbformat": 4,
 "nbformat_minor": 0
}
