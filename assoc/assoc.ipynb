{
 "cells": [
  {
   "cell_type": "markdown",
   "metadata": {},
   "source": [
    "In this tutorial we run association tests on a syntetic dataset gemerated with plink (400 individuals, 1 SNP, binary phenotype). We use this commands to generate the data, recode it into ``.ped`` format, and then run association tests.\n",
    " \n",
    "```\n",
    "plink --dummy 400 1 acgt\n",
    "plink --bfile --recode\n",
    "plink --bfile --assoc\n",
    "```\n",
    "\n",
    "The resulting `plink.assoc` file is as follows.\n",
    "```\n",
    " CHR  SNP         BP   A1      F_A      F_U   A2        CHISQ            P           OR \n",
    "   1 snp0          0    G   0.4782      0.5    A       0.3816       0.5367       0.9163 \n",
    "```\n",
    "\n",
    "For ``plink --bfile --fisher`` the resulting file is as follows.\n",
    "```\n",
    " CHR  SNP         BP   A1      F_A      F_U   A2            P           OR \n",
    "   1 snp0          0    G   0.4782      0.5    A       0.5714       0.9163 \n",
    "```\n",
    "\n",
    "For ``plink -bfile --model`` the resulting file is as follows.\n",
    "```\n",
    " CHR  SNP   A1   A2     TEST            AFF          UNAFF        CHISQ   DF            P\n",
    "   1 snp0    G    A     GENO      40/117/49       53/88/53        5.722    2      0.05722\n",
    "   1 snp0    G    A    TREND        197/215        194/194       0.3916    1       0.5315\n",
    "   1 snp0    G    A  ALLELIC        197/215        194/194       0.3816    1       0.5367\n",
    "   1 snp0    G    A      DOM         157/49         141/53       0.6565    1       0.4178\n",
    "   1 snp0    G    A      REC         40/166         53/141        3.496    1      0.06151\n",
    "```\n",
    "\n",
    "Our goal is to reproduce these results using ``.ped`` file."
   ]
  },
  {
   "cell_type": "code",
   "execution_count": 1,
   "metadata": {
    "collapsed": false
   },
   "outputs": [
    {
     "data": {
      "text/html": [
       "<div>\n",
       "<table border=\"1\" class=\"dataframe\">\n",
       "  <thead>\n",
       "    <tr style=\"text-align: right;\">\n",
       "      <th></th>\n",
       "      <th>Affection</th>\n",
       "      <th>A1</th>\n",
       "      <th>A2</th>\n",
       "    </tr>\n",
       "    <tr>\n",
       "      <th>Id</th>\n",
       "      <th></th>\n",
       "      <th></th>\n",
       "      <th></th>\n",
       "    </tr>\n",
       "  </thead>\n",
       "  <tbody>\n",
       "    <tr>\n",
       "      <th>per0</th>\n",
       "      <td>1</td>\n",
       "      <td>G</td>\n",
       "      <td>A</td>\n",
       "    </tr>\n",
       "    <tr>\n",
       "      <th>per1</th>\n",
       "      <td>1</td>\n",
       "      <td>G</td>\n",
       "      <td>G</td>\n",
       "    </tr>\n",
       "    <tr>\n",
       "      <th>per2</th>\n",
       "      <td>2</td>\n",
       "      <td>G</td>\n",
       "      <td>A</td>\n",
       "    </tr>\n",
       "    <tr>\n",
       "      <th>per3</th>\n",
       "      <td>2</td>\n",
       "      <td>G</td>\n",
       "      <td>A</td>\n",
       "    </tr>\n",
       "    <tr>\n",
       "      <th>per4</th>\n",
       "      <td>2</td>\n",
       "      <td>A</td>\n",
       "      <td>A</td>\n",
       "    </tr>\n",
       "    <tr>\n",
       "      <th>per5</th>\n",
       "      <td>2</td>\n",
       "      <td>G</td>\n",
       "      <td>A</td>\n",
       "    </tr>\n",
       "  </tbody>\n",
       "</table>\n",
       "</div>"
      ],
      "text/plain": [
       "      Affection A1 A2\n",
       "Id                   \n",
       "per0          1  G  A\n",
       "per1          1  G  G\n",
       "per2          2  G  A\n",
       "per3          2  G  A\n",
       "per4          2  A  A\n",
       "per5          2  G  A"
      ]
     },
     "execution_count": 1,
     "metadata": {},
     "output_type": "execute_result"
    }
   ],
   "source": [
    "import pandas as pd\n",
    "import numpy as np\n",
    "import math\n",
    "\n",
    "df = pd.read_csv('plink.ped', sep=' ', header=None, \n",
    "                 names=['FamilyId', 'Id', 'FatherId', 'MotherId', 'Sex', 'Affection',\n",
    "                        'A1', 'A2'],\n",
    "                 index_col=1)\n",
    "df = df[['Affection', 'A1', 'A2']]  # prune all irrelevant columns\n",
    "df[:6]"
   ]
  },
  {
   "cell_type": "markdown",
   "metadata": {},
   "source": [
    "First we will combine ``A1`` and ``A2`` columns via [pandas.melt](http://pandas.pydata.org/pandas-docs/stable/generated/pandas.melt.html)."
   ]
  },
  {
   "cell_type": "code",
   "execution_count": 2,
   "metadata": {
    "collapsed": false
   },
   "outputs": [
    {
     "data": {
      "text/html": [
       "<div>\n",
       "<table border=\"1\" class=\"dataframe\">\n",
       "  <thead>\n",
       "    <tr style=\"text-align: right;\">\n",
       "      <th></th>\n",
       "      <th>Affection</th>\n",
       "      <th>variable</th>\n",
       "      <th>value</th>\n",
       "    </tr>\n",
       "  </thead>\n",
       "  <tbody>\n",
       "    <tr>\n",
       "      <th>0</th>\n",
       "      <td>1</td>\n",
       "      <td>A1</td>\n",
       "      <td>G</td>\n",
       "    </tr>\n",
       "    <tr>\n",
       "      <th>1</th>\n",
       "      <td>1</td>\n",
       "      <td>A1</td>\n",
       "      <td>G</td>\n",
       "    </tr>\n",
       "    <tr>\n",
       "      <th>2</th>\n",
       "      <td>2</td>\n",
       "      <td>A1</td>\n",
       "      <td>G</td>\n",
       "    </tr>\n",
       "    <tr>\n",
       "      <th>3</th>\n",
       "      <td>2</td>\n",
       "      <td>A1</td>\n",
       "      <td>G</td>\n",
       "    </tr>\n",
       "    <tr>\n",
       "      <th>4</th>\n",
       "      <td>2</td>\n",
       "      <td>A1</td>\n",
       "      <td>A</td>\n",
       "    </tr>\n",
       "    <tr>\n",
       "      <th>5</th>\n",
       "      <td>2</td>\n",
       "      <td>A1</td>\n",
       "      <td>G</td>\n",
       "    </tr>\n",
       "  </tbody>\n",
       "</table>\n",
       "</div>"
      ],
      "text/plain": [
       "   Affection variable value\n",
       "0          1       A1     G\n",
       "1          1       A1     G\n",
       "2          2       A1     G\n",
       "3          2       A1     G\n",
       "4          2       A1     A\n",
       "5          2       A1     G"
      ]
     },
     "execution_count": 2,
     "metadata": {},
     "output_type": "execute_result"
    }
   ],
   "source": [
    "df = pd.melt(df, id_vars=['Affection'], value_vars=['A1', 'A2'])\n",
    "df[:6]"
   ]
  },
  {
   "cell_type": "markdown",
   "metadata": {},
   "source": [
    "Then we find the contingency table."
   ]
  },
  {
   "cell_type": "code",
   "execution_count": 3,
   "metadata": {
    "collapsed": false
   },
   "outputs": [
    {
     "data": {
      "text/html": [
       "<div>\n",
       "<table border=\"1\" class=\"dataframe\">\n",
       "  <thead>\n",
       "    <tr style=\"text-align: right;\">\n",
       "      <th>value</th>\n",
       "      <th>A</th>\n",
       "      <th>G</th>\n",
       "    </tr>\n",
       "    <tr>\n",
       "      <th>Affection</th>\n",
       "      <th></th>\n",
       "      <th></th>\n",
       "    </tr>\n",
       "  </thead>\n",
       "  <tbody>\n",
       "    <tr>\n",
       "      <th>1</th>\n",
       "      <td>194</td>\n",
       "      <td>194</td>\n",
       "    </tr>\n",
       "    <tr>\n",
       "      <th>2</th>\n",
       "      <td>215</td>\n",
       "      <td>197</td>\n",
       "    </tr>\n",
       "  </tbody>\n",
       "</table>\n",
       "</div>"
      ],
      "text/plain": [
       "value        A    G\n",
       "Affection          \n",
       "1          194  194\n",
       "2          215  197"
      ]
     },
     "execution_count": 3,
     "metadata": {},
     "output_type": "execute_result"
    }
   ],
   "source": [
    "df['count'] = 1\n",
    "freq = df.groupby(['Affection', 'value']).sum().unstack(level=1)['count']\n",
    "freq"
   ]
  },
  {
   "cell_type": "markdown",
   "metadata": {},
   "source": [
    "Now we can analize this data in R. Note that for chi square test we need to turn off the Yates' continuity correction.\n",
    "```\n",
    "> freq <- matrix(c(194, 194, 215, 197), ncol=2, byrow=TRUE)\n",
    "> colnames(freq) <- c(\"A\", \"G\")\n",
    "> rownames(freq) <- c(\"Control\", \"Cases\")\n",
    "> chisq.test(freq, correct=FALSE)\n",
    "\n",
    "        Pearson's Chi-squared test\n",
    "\n",
    "data:  freq\n",
    "X-squared = 0.3816, df = 1, p-value = 0.5367\n",
    "\n",
    "> fisher.test(freq)\n",
    "\n",
    "        Fisher's Exact Test for Count Data\n",
    "\n",
    "data:  freq\n",
    "p-value = 0.5714\n",
    "alternative hypothesis: true odds ratio is not equal to 1\n",
    "95 percent confidence interval:\n",
    " 0.6875727 1.2210360\n",
    "sample estimates:\n",
    "odds ratio \n",
    "   0.91638 \n",
    "```\n",
    "\n",
    "To reproduce the ``--model`` results we will trust the frequency values from ``plink``, and load them into R as a contingency table.\n",
    "```\n",
    "> freq <- matrix(c(40,117,49, 53,88,53), ncol=3, byrow=TRUE)\n",
    "> colnames(freq) <- c(\"AA\", \"AG\", \"GG\")\n",
    "> rownames(freq) <- c(\"Cases\", \"Controls\")\n",
    "> freq\n",
    "         AA  AG GG\n",
    "Cases    40 117 49\n",
    "Controls 53  88 53\n",
    "> chisq.test(freq, correct=FALSE)\n",
    "\n",
    "        Pearson's Chi-squared test\n",
    "\n",
    "data:  freq\n",
    "X-squared = 5.7217, df = 2, p-value = 0.05722\n",
    "```"
   ]
  },
  {
   "cell_type": "code",
   "execution_count": null,
   "metadata": {
    "collapsed": true
   },
   "outputs": [],
   "source": []
  }
 ],
 "metadata": {
  "anaconda-cloud": {},
  "kernelspec": {
   "display_name": "Python [Root]",
   "language": "python",
   "name": "Python [Root]"
  },
  "language_info": {
   "codemirror_mode": {
    "name": "ipython",
    "version": 2
   },
   "file_extension": ".py",
   "mimetype": "text/x-python",
   "name": "python",
   "nbconvert_exporter": "python",
   "pygments_lexer": "ipython2",
   "version": "2.7.12"
  }
 },
 "nbformat": 4,
 "nbformat_minor": 0
}
